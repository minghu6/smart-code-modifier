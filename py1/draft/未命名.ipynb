{
 "cells": [
  {
   "cell_type": "code",
   "execution_count": 3,
   "id": "alike-paragraph",
   "metadata": {},
   "outputs": [],
   "source": [
    "from type_docopt import docopt\n",
    "\n",
    "from pathlib import Path"
   ]
  },
  {
   "cell_type": "code",
   "execution_count": 9,
   "id": "another-azerbaijan",
   "metadata": {},
   "outputs": [],
   "source": [
    "doc=\"\"\"codefmt\n",
    "A Code rewriter\n",
    "Usage:\n",
    "  codefmt echo <src>\n",
    "\n",
    "Options:\n",
    "  <src>  source code path [type: Path]\n",
    "\n",
    "\"\"\""
   ]
  },
  {
   "cell_type": "code",
   "execution_count": 10,
   "id": "prescribed-caribbean",
   "metadata": {},
   "outputs": [
    {
     "ename": "DocoptExit",
     "evalue": "Warning: found unmatched (duplicate?) arguments [Argument(None, 'abc')]\nUsage:\n  codefmt echo <src>",
     "output_type": "error",
     "traceback": [
      "An exception has occurred, use %tb to see the full traceback.\n",
      "\u001b[0;31mDocoptExit\u001b[0m\u001b[0;31m:\u001b[0m Warning: found unmatched (duplicate?) arguments [Argument(None, 'abc')]\nUsage:\n  codefmt echo <src>\n"
     ]
    }
   ],
   "source": [
    "docopt(doc, argv=\"abc\", types={\"Path\": Path})"
   ]
  },
  {
   "cell_type": "code",
   "execution_count": 11,
   "id": "ultimate-monaco",
   "metadata": {},
   "outputs": [],
   "source": [
    "d={\"a\":1}"
   ]
  },
  {
   "cell_type": "code",
   "execution_count": 12,
   "id": "daily-relation",
   "metadata": {},
   "outputs": [
    {
     "data": {
      "text/plain": [
       "1"
      ]
     },
     "execution_count": 12,
     "metadata": {},
     "output_type": "execute_result"
    }
   ],
   "source": [
    "d.pop('a')"
   ]
  },
  {
   "cell_type": "code",
   "execution_count": 13,
   "id": "basic-serve",
   "metadata": {},
   "outputs": [
    {
     "data": {
      "text/plain": [
       "{}"
      ]
     },
     "execution_count": 13,
     "metadata": {},
     "output_type": "execute_result"
    }
   ],
   "source": [
    "d"
   ]
  },
  {
   "cell_type": "code",
   "execution_count": 21,
   "id": "headed-mandate",
   "metadata": {},
   "outputs": [],
   "source": [
    "p=Path('a.php')"
   ]
  },
  {
   "cell_type": "code",
   "execution_count": 22,
   "id": "distinct-outline",
   "metadata": {},
   "outputs": [
    {
     "data": {
      "text/plain": [
       "False"
      ]
     },
     "execution_count": 22,
     "metadata": {},
     "output_type": "execute_result"
    }
   ],
   "source": [
    "p.exists()"
   ]
  },
  {
   "cell_type": "code",
   "execution_count": 24,
   "id": "functional-travel",
   "metadata": {},
   "outputs": [
    {
     "data": {
      "text/plain": [
       "''"
      ]
     },
     "execution_count": 24,
     "metadata": {},
     "output_type": "execute_result"
    }
   ],
   "source": [
    "p.name"
   ]
  },
  {
   "cell_type": "code",
   "execution_count": 17,
   "id": "lesbian-mexican",
   "metadata": {},
   "outputs": [],
   "source": [
    "import antlr4"
   ]
  },
  {
   "cell_type": "code",
   "execution_count": 20,
   "id": "backed-european",
   "metadata": {},
   "outputs": [
    {
     "ename": "ImportError",
     "evalue": "cannot import name 'CharStreams'",
     "output_type": "error",
     "traceback": [
      "\u001b[0;31m---------------------------------------------------------------------------\u001b[0m",
      "\u001b[0;31mImportError\u001b[0m                               Traceback (most recent call last)",
      "\u001b[0;32m<ipython-input-20-b233bad644e6>\u001b[0m in \u001b[0;36m<module>\u001b[0;34m\u001b[0m\n\u001b[0;32m----> 1\u001b[0;31m from antlr4 import (\n\u001b[0m\u001b[1;32m      2\u001b[0m     \u001b[0mBufferedTokenStream\u001b[0m\u001b[0;34m,\u001b[0m\u001b[0;34m\u001b[0m\u001b[0;34m\u001b[0m\u001b[0m\n\u001b[1;32m      3\u001b[0m     \u001b[0mTokenStreamRewriter\u001b[0m\u001b[0;34m,\u001b[0m\u001b[0;34m\u001b[0m\u001b[0;34m\u001b[0m\u001b[0m\n\u001b[1;32m      4\u001b[0m     \u001b[0mCharStreams\u001b[0m\u001b[0;34m\u001b[0m\u001b[0;34m\u001b[0m\u001b[0m\n\u001b[1;32m      5\u001b[0m )\n",
      "\u001b[0;31mImportError\u001b[0m: cannot import name 'CharStreams'"
     ]
    }
   ],
   "source": [
    "from antlr4 import (\n",
    "    BufferedTokenStream,\n",
    "    TokenStreamRewriter,\n",
    "    CharStreams\n",
    ")"
   ]
  },
  {
   "cell_type": "code",
   "execution_count": null,
   "id": "liable-zealand",
   "metadata": {},
   "outputs": [],
   "source": []
  }
 ],
 "metadata": {
  "kernelspec": {
   "display_name": "PyPy3.7",
   "language": "python",
   "name": "pypy3.7"
  },
  "language_info": {
   "codemirror_mode": {
    "name": "ipython",
    "version": 3
   },
   "file_extension": ".py",
   "mimetype": "text/x-python",
   "name": "python",
   "nbconvert_exporter": "python",
   "pygments_lexer": "ipython3",
   "version": "3.7.9"
  }
 },
 "nbformat": 4,
 "nbformat_minor": 5
}
